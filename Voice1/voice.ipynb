{
 "cells": [
  {
   "cell_type": "code",
   "execution_count": 4,
   "id": "534c8b9c",
   "metadata": {},
   "outputs": [],
   "source": [
    "# Imports\n",
    "import speech_recognition as sr\n",
    "import pyttsx3\n",
    "import datetime\n",
    "import wikipedia\n",
    "import webbrowser\n",
    "import os\n",
    "import subprocess\n",
    "import ctypes\n",
    "import time\n",
    "import pyaudio"
   ]
  },
  {
   "cell_type": "code",
   "execution_count": 5,
   "id": "1d12780e",
   "metadata": {},
   "outputs": [],
   "source": [
    "def takeCommand():\n",
    "    recognizer = sr.Recognizer()\n",
    "    with sr.Microphone() as source:\n",
    "        print(\"Listening...\")\n",
    "        recognizer.pause_threshold = 1\n",
    "        recognizer.adjust_for_ambient_noise(source)\n",
    "        audio = recognizer.listen(source)\n",
    "\n",
    "    try:\n",
    "        print(\"Recognizing...\")\n",
    "        command = recognizer.recognize_google(audio, language='en-in')\n",
    "        print(f\"You said: {command}\\n\")\n",
    "    except sr.UnknownValueError:\n",
    "        speak(\"Sorry, I didn't catch that.\")\n",
    "        return \"None\"\n",
    "    except sr.RequestError:\n",
    "        speak(\"Internet connection error.\")\n",
    "        return \"None\"\n",
    "\n",
    "    return command.lower()\n"
   ]
  },
  {
   "cell_type": "code",
   "execution_count": 6,
   "id": "032d6c33",
   "metadata": {},
   "outputs": [],
   "source": [
    "engine = pyttsx3.init()\n",
    "\n",
    "def speak(audio):\n",
    "    print(f\"Bot: {audio}\")\n",
    "    engine.say(audio)\n",
    "    engine.runAndWait()\n"
   ]
  },
  {
   "cell_type": "code",
   "execution_count": 7,
   "id": "156eacbf",
   "metadata": {},
   "outputs": [],
   "source": [
    "def wishMe():\n",
    "    hour = int(datetime.datetime.now().hour)\n",
    "    if 0 <= hour < 12:\n",
    "        speak(\"Good morning!\")\n",
    "    elif 12 <= hour < 18:\n",
    "        speak(\"Good afternoon!\")\n",
    "    else:\n",
    "        speak(\"Good evening!\")\n",
    "    speak(\"I am your AI assistant. How can I help you?\")\n"
   ]
  },
  {
   "cell_type": "code",
   "execution_count": 8,
   "id": "124e5ab8",
   "metadata": {},
   "outputs": [],
   "source": [
    "def run_bot():\n",
    "    wishMe()\n",
    "    while True:\n",
    "        query = takeCommand()\n",
    "\n",
    "        if query == \"none\":\n",
    "            continue\n",
    "\n",
    "        # Wikipedia Search\n",
    "        elif 'wikipedia' in query:\n",
    "            speak(\"Searching Wikipedia...\")\n",
    "            result = wikipedia.summary(query.replace(\"wikipedia\", \"\"), sentences=2)\n",
    "            speak(\"According to Wikipedia\")\n",
    "            speak(result)\n",
    "\n",
    "        # Open Google\n",
    "        elif 'open google' in query:\n",
    "            webbrowser.open(\"https://www.google.com\")\n",
    "\n",
    "        # Time\n",
    "        elif 'time' in query:\n",
    "            strTime = datetime.datetime.now().strftime(\"%I:%M %p\")\n",
    "            speak(f\"The time is {strTime}\")\n",
    "\n",
    "        # Open YouTube\n",
    "        elif 'open youtube' in query:\n",
    "            webbrowser.open(\"https://www.youtube.com\")\n",
    "\n",
    "        # Shutdown or Restart\n",
    "        elif 'shutdown' in query:\n",
    "            speak(\"Shutting down the system...\")\n",
    "            os.system(\"shutdown /s /t 1\")\n",
    "        elif 'restart' in query:\n",
    "            speak(\"Restarting the system...\")\n",
    "            os.system(\"shutdown /r /t 1\")\n",
    "\n",
    "        # Custom Command: Write a Note\n",
    "        elif 'write a note' in query:\n",
    "            speak(\"What should I write?\")\n",
    "            note = takeCommand()\n",
    "            with open(\"note.txt\", \"w\") as file:\n",
    "                file.write(note)\n",
    "            speak(\"Note saved.\")\n",
    "\n",
    "        # Custom Command: Read the Note\n",
    "        elif 'read note' in query:\n",
    "            try:\n",
    "                with open(\"note.txt\", \"r\") as file:\n",
    "                    speak(\"Here is your note:\")\n",
    "                    speak(file.read())\n",
    "            except FileNotFoundError:\n",
    "                speak(\"No note found.\")\n",
    "\n",
    "        # Exit\n",
    "        elif 'exit' in query or 'stop' in query:\n",
    "            speak(\"Goodbye!\")\n",
    "            break\n",
    "\n",
    "        # Small talk\n",
    "        elif 'how are you' in query:\n",
    "            speak(\"I'm doing well. Thank you!\")\n",
    "\n",
    "        else:\n",
    "            speak(\"I didn't understand. Can you repeat?\")\n"
   ]
  },
  {
   "cell_type": "code",
   "execution_count": null,
   "id": "9c5a4269",
   "metadata": {},
   "outputs": [
    {
     "name": "stdout",
     "output_type": "stream",
     "text": [
      "Bot: Good evening!\n",
      "Bot: I am your AI assistant. How can I help you?\n",
      "Listening...\n",
      "Recognizing...\n",
      "Bot: Sorry, I didn't catch that.\n",
      "Bot: I didn't understand. Can you repeat?\n",
      "Listening...\n",
      "Recognizing...\n",
      "You said: Wikipedia and search for the capital of India\n",
      "\n",
      "Bot: Searching Wikipedia...\n",
      "Bot: According to Wikipedia\n",
      "Bot: Delhi, officially the National Capital Territory (NCT) of Delhi, is a city and a union territory of India containing New Delhi, the capital of India. Straddling the Yamuna river, but spread chiefly to the west, or beyond its right bank, Delhi shares borders with the state of Uttar Pradesh in the east and with the state of Haryana in the remaining directions.\n",
      "Listening...\n",
      "Recognizing...\n"
     ]
    }
   ],
   "source": [
    "if __name__ == \"__main__\":\n",
    "    run_bot()\n"
   ]
  }
 ],
 "metadata": {
  "kernelspec": {
   "display_name": "Python 3",
   "language": "python",
   "name": "python3"
  },
  "language_info": {
   "codemirror_mode": {
    "name": "ipython",
    "version": 3
   },
   "file_extension": ".py",
   "mimetype": "text/x-python",
   "name": "python",
   "nbconvert_exporter": "python",
   "pygments_lexer": "ipython3",
   "version": "3.11.9"
  }
 },
 "nbformat": 4,
 "nbformat_minor": 5
}
